{
 "cells": [
  {
   "cell_type": "code",
   "execution_count": 274,
   "id": "132c440c",
   "metadata": {},
   "outputs": [],
   "source": [
    "import pandas as pd\n",
    "from PIL import Image\n",
    "from transformers import AutoImageProcessor, AutoModelForImageClassification\n",
    "import torch\n",
    "import os\n",
    "import cv2\n",
    "import torchvision.models as models\n",
    "import torch.nn as nn\n",
    "from torchvision import transforms\n",
    "import urllib\n",
    "import numpy as np\n",
    "import matplotlib.pyplot as plt\n",
    "import random"
   ]
  },
  {
   "cell_type": "code",
   "execution_count": 275,
   "id": "7554fc80",
   "metadata": {},
   "outputs": [],
   "source": [
    "script_dir = os.getcwd()"
   ]
  },
  {
   "cell_type": "code",
   "execution_count": 276,
   "id": "aa78a2d2",
   "metadata": {},
   "outputs": [
    {
     "name": "stderr",
     "output_type": "stream",
     "text": [
      "Fetching 1 files: 100%|██████████| 1/1 [00:00<?, ?it/s]\n"
     ]
    }
   ],
   "source": [
    "emotion_processor = AutoImageProcessor.from_pretrained(\"trpakov/vit-face-expression\")\n",
    "emotion_model = AutoModelForImageClassification.from_pretrained(\"trpakov/vit-face-expression\")"
   ]
  },
  {
   "cell_type": "code",
   "execution_count": 277,
   "id": "eb5a669a",
   "metadata": {},
   "outputs": [],
   "source": [
    "scene_weights_url = \"http://places2.csail.mit.edu/models_places365/resnet18_places365.pth.tar\"\n",
    "scene_checkpoint = torch.hub.load_state_dict_from_url(scene_weights_url, map_location=\"cpu\")\n",
    "\n",
    "scene_model = models.resnet18(num_classes=365)\n",
    "scene_model.fc = nn.Linear(scene_model.fc.in_features, 365)\n",
    "scene_state_dict = {k.replace(\"module.\", \"\"): v for k, v in scene_checkpoint[\"state_dict\"].items()}\n",
    "scene_model.load_state_dict(scene_state_dict)\n",
    "scene_model.eval()\n",
    "\n",
    "# Preprocessing, the standard torchvision normalization for ResNet, VGG, DenseNet...\n",
    "scene_tf = transforms.Compose([\n",
    "    transforms.Resize((256,256)),\n",
    "    transforms.CenterCrop(224),\n",
    "    transforms.ToTensor(),\n",
    "    transforms.Normalize(mean=[0.485, 0.456, 0.406],\n",
    "                         std=[0.229, 0.224, 0.225])\n",
    "])"
   ]
  },
  {
   "cell_type": "markdown",
   "id": "ca255d78",
   "metadata": {},
   "source": [
    "# Wrap pretrained models"
   ]
  },
  {
   "cell_type": "code",
   "execution_count": 278,
   "id": "46ce67b6",
   "metadata": {},
   "outputs": [],
   "source": [
    "from deepproblog.network import Network \n",
    "import torch.nn.functional as F\n",
    "\n",
    "# Wrap HF model so forward() returns logits\n",
    "class HFWrapper(nn.Module):\n",
    "    def __init__(self, hf_model):\n",
    "        super().__init__()\n",
    "        self.hf_model = hf_model\n",
    "    def forward(self, x):\n",
    "        outputs = self.hf_model(x)\n",
    "        logits = outputs.logits\n",
    "        probs = F.softmax(logits, dim=-1)\n",
    "        return probs\n",
    "    \n",
    "class SceneWrapper(nn.Module):\n",
    "    def __init__(self, model):\n",
    "        super().__init__()\n",
    "        self.model = model\n",
    "\n",
    "    def forward(self, x):\n",
    "        logits = self.model(x)\n",
    "        probs = F.softmax(logits, dim=-1)\n",
    "        return probs\n",
    "scene_model = SceneWrapper(scene_model)\n",
    "\n",
    "emotion_model = HFWrapper(emotion_model)"
   ]
  },
  {
   "cell_type": "code",
   "execution_count": 279,
   "id": "71faf09f",
   "metadata": {},
   "outputs": [
    {
     "name": "stdout",
     "output_type": "stream",
     "text": [
      "Moving  emotion_model  to GPU\n",
      "Moving  scene_model  to GPU\n"
     ]
    },
    {
     "data": {
      "text/plain": [
       "<deepproblog.network.Network at 0x25f338af370>"
      ]
     },
     "execution_count": 279,
     "metadata": {},
     "output_type": "execute_result"
    }
   ],
   "source": [
    "emotion_net = Network(emotion_model, \"emotion_model\", batching=True)\n",
    "scene_net = Network(scene_model, \"scene_model\", batching=True)\n",
    "\n",
    "emotion_net.eval()\n",
    "scene_net.eval()\n",
    "\n",
    "emotion_net.cuda()\n",
    "scene_net.cuda()"
   ]
  },
  {
   "cell_type": "markdown",
   "id": "b508f2e2",
   "metadata": {},
   "source": [
    "# Define domain"
   ]
  },
  {
   "cell_type": "code",
   "execution_count": 280,
   "id": "af7dc614",
   "metadata": {},
   "outputs": [
    {
     "name": "stdout",
     "output_type": "stream",
     "text": [
      "['angry', 'disgust', 'fear', 'happy', 'neutral', 'sad', 'surprise']\n",
      "['airfield', 'airplane_cabin', 'airport_terminal', 'alcove', 'alley', 'amphitheater', 'amusement_arcade', 'amusement_park', 'apartment_building/outdoor', 'aquarium', 'aqueduct', 'arcade', 'arch', 'archaelogical_excavation', 'archive', 'arena/hockey', 'arena/performance', 'arena/rodeo', 'army_base', 'art_gallery', 'art_school', 'art_studio', 'artists_loft', 'assembly_line', 'athletic_field/outdoor', 'atrium/public', 'attic', 'auditorium', 'auto_factory', 'auto_showroom', 'badlands', 'bakery/shop', 'balcony/exterior', 'balcony/interior', 'ball_pit', 'ballroom', 'bamboo_forest', 'bank_vault', 'banquet_hall', 'bar', 'barn', 'barndoor', 'baseball_field', 'basement', 'basketball_court/indoor', 'bathroom', 'bazaar/indoor', 'bazaar/outdoor', 'beach', 'beach_house', 'beauty_salon', 'bedchamber', 'bedroom', 'beer_garden', 'beer_hall', 'berth', 'biology_laboratory', 'boardwalk', 'boat_deck', 'boathouse', 'bookstore', 'booth/indoor', 'botanical_garden', 'bow_window/indoor', 'bowling_alley', 'boxing_ring', 'bridge', 'building_facade', 'bullring', 'burial_chamber', 'bus_interior', 'bus_station/indoor', 'butchers_shop', 'butte', 'cabin/outdoor', 'cafeteria', 'campsite', 'campus', 'canal/natural', 'canal/urban', 'candy_store', 'canyon', 'car_interior', 'carrousel', 'castle', 'catacomb', 'cemetery', 'chalet', 'chemistry_lab', 'childs_room', 'church/indoor', 'church/outdoor', 'classroom', 'clean_room', 'cliff', 'closet', 'clothing_store', 'coast', 'cockpit', 'coffee_shop', 'computer_room', 'conference_center', 'conference_room', 'construction_site', 'corn_field', 'corral', 'corridor', 'cottage', 'courthouse', 'courtyard', 'creek', 'crevasse', 'crosswalk', 'dam', 'delicatessen', 'department_store', 'desert/sand', 'desert/vegetation', 'desert_road', 'diner/outdoor', 'dining_hall', 'dining_room', 'discotheque', 'doorway/outdoor', 'dorm_room', 'downtown', 'dressing_room', 'driveway', 'drugstore', 'elevator/door', 'elevator_lobby', 'elevator_shaft', 'embassy', 'engine_room', 'entrance_hall', 'escalator/indoor', 'excavation', 'fabric_store', 'farm', 'fastfood_restaurant', 'field/cultivated', 'field/wild', 'field_road', 'fire_escape', 'fire_station', 'fishpond', 'flea_market/indoor', 'florist_shop/indoor', 'food_court', 'football_field', 'forest/broadleaf', 'forest_path', 'forest_road', 'formal_garden', 'fountain', 'galley', 'garage/indoor', 'garage/outdoor', 'gas_station', 'gazebo/exterior', 'general_store/indoor', 'general_store/outdoor', 'gift_shop', 'glacier', 'golf_course', 'greenhouse/indoor', 'greenhouse/outdoor', 'grotto', 'gymnasium/indoor', 'hangar/indoor', 'hangar/outdoor', 'harbor', 'hardware_store', 'hayfield', 'heliport', 'highway', 'home_office', 'home_theater', 'hospital', 'hospital_room', 'hot_spring', 'hotel/outdoor', 'hotel_room', 'house', 'hunting_lodge/outdoor', 'ice_cream_parlor', 'ice_floe', 'ice_shelf', 'ice_skating_rink/indoor', 'ice_skating_rink/outdoor', 'iceberg', 'igloo', 'industrial_area', 'inn/outdoor', 'islet', 'jacuzzi/indoor', 'jail_cell', 'japanese_garden', 'jewelry_shop', 'junkyard', 'kasbah', 'kennel/outdoor', 'kindergarden_classroom', 'kitchen', 'lagoon', 'lake/natural', 'landfill', 'landing_deck', 'laundromat', 'lawn', 'lecture_room', 'legislative_chamber', 'library/indoor', 'library/outdoor', 'lighthouse', 'living_room', 'loading_dock', 'lobby', 'lock_chamber', 'locker_room', 'mansion', 'manufactured_home', 'market/indoor', 'market/outdoor', 'marsh', 'martial_arts_gym', 'mausoleum', 'medina', 'mezzanine', 'moat/water', 'mosque/outdoor', 'motel', 'mountain', 'mountain_path', 'mountain_snowy', 'movie_theater/indoor', 'museum/indoor', 'museum/outdoor', 'music_studio', 'natural_history_museum', 'nursery', 'nursing_home', 'oast_house', 'ocean', 'office', 'office_building', 'office_cubicles', 'oilrig', 'operating_room', 'orchard', 'orchestra_pit', 'pagoda', 'palace', 'pantry', 'park', 'parking_garage/indoor', 'parking_garage/outdoor', 'parking_lot', 'pasture', 'patio', 'pavilion', 'pet_shop', 'pharmacy', 'phone_booth', 'physics_laboratory', 'picnic_area', 'pier', 'pizzeria', 'playground', 'playroom', 'plaza', 'pond', 'porch', 'promenade', 'pub/indoor', 'racecourse', 'raceway', 'raft', 'railroad_track', 'rainforest', 'reception', 'recreation_room', 'repair_shop', 'residential_neighborhood', 'restaurant', 'restaurant_kitchen', 'restaurant_patio', 'rice_paddy', 'river', 'rock_arch', 'roof_garden', 'rope_bridge', 'ruin', 'runway', 'sandbox', 'sauna', 'schoolhouse', 'science_museum', 'server_room', 'shed', 'shoe_shop', 'shopfront', 'shopping_mall/indoor', 'shower', 'ski_resort', 'ski_slope', 'sky', 'skyscraper', 'slum', 'snowfield', 'soccer_field', 'stable', 'stadium/baseball', 'stadium/football', 'stadium/soccer', 'stage/indoor', 'stage/outdoor', 'staircase', 'storage_room', 'street', 'subway_station/platform', 'supermarket', 'sushi_bar', 'swamp', 'swimming_hole', 'swimming_pool/indoor', 'swimming_pool/outdoor', 'synagogue/outdoor', 'television_room', 'television_studio', 'temple/asia', 'throne_room', 'ticket_booth', 'topiary_garden', 'tower', 'toyshop', 'train_interior', 'train_station/platform', 'tree_farm', 'tree_house', 'trench', 'tundra', 'underwater/ocean_deep', 'utility_room', 'valley', 'vegetable_garden', 'veterinarians_office', 'viaduct', 'village', 'vineyard', 'volcano', 'volleyball_court/outdoor', 'waiting_room', 'water_park', 'water_tower', 'waterfall', 'watering_hole', 'wave', 'wet_bar', 'wheat_field', 'wind_farm', 'windmill', 'yard', 'youth_hostel', 'zen_garden']\n"
     ]
    }
   ],
   "source": [
    "emotion_net.domain = [emotion_model.hf_model.config.id2label[i] \n",
    "                      for i in range(len(emotion_model.hf_model.config.id2label))]\n",
    "print(emotion_net.domain)\n",
    "\n",
    "categories = [line.strip().split(' ')[0][3:] \n",
    "              for line in open(\"./data/places365/categories_places365.txt\")]\n",
    "scene_net.domain = categories\n",
    "print(scene_net.domain)  # check first few\n"
   ]
  },
  {
   "cell_type": "code",
   "execution_count": 281,
   "id": "ea5fa88f",
   "metadata": {},
   "outputs": [],
   "source": [
    "def sanitize(label: str) -> str:\n",
    "    return (\n",
    "        label.strip()\n",
    "        .lower()\n",
    "        .replace(\" \", \"_\")\n",
    "        .replace(\"/\", \"_\")\n",
    "    )\n",
    "\n",
    "emotion_net.domain = [sanitize(l) for l in emotion_net.domain]\n",
    "scene_net.domain   = [sanitize(l) for l in scene_net.domain]"
   ]
  },
  {
   "cell_type": "code",
   "execution_count": 282,
   "id": "64f4a5f1",
   "metadata": {},
   "outputs": [
    {
     "name": "stdout",
     "output_type": "stream",
     "text": [
      "['angry', 'disgust', 'fear', 'happy', 'neutral', 'sad', 'surprise']\n",
      "['airfield', 'airplane_cabin', 'airport_terminal', 'alcove', 'alley', 'amphitheater', 'amusement_arcade', 'amusement_park', 'apartment_building_outdoor', 'aquarium', 'aqueduct', 'arcade', 'arch', 'archaelogical_excavation', 'archive', 'arena_hockey', 'arena_performance', 'arena_rodeo', 'army_base', 'art_gallery', 'art_school', 'art_studio', 'artists_loft', 'assembly_line', 'athletic_field_outdoor', 'atrium_public', 'attic', 'auditorium', 'auto_factory', 'auto_showroom', 'badlands', 'bakery_shop', 'balcony_exterior', 'balcony_interior', 'ball_pit', 'ballroom', 'bamboo_forest', 'bank_vault', 'banquet_hall', 'bar', 'barn', 'barndoor', 'baseball_field', 'basement', 'basketball_court_indoor', 'bathroom', 'bazaar_indoor', 'bazaar_outdoor', 'beach', 'beach_house', 'beauty_salon', 'bedchamber', 'bedroom', 'beer_garden', 'beer_hall', 'berth', 'biology_laboratory', 'boardwalk', 'boat_deck', 'boathouse', 'bookstore', 'booth_indoor', 'botanical_garden', 'bow_window_indoor', 'bowling_alley', 'boxing_ring', 'bridge', 'building_facade', 'bullring', 'burial_chamber', 'bus_interior', 'bus_station_indoor', 'butchers_shop', 'butte', 'cabin_outdoor', 'cafeteria', 'campsite', 'campus', 'canal_natural', 'canal_urban', 'candy_store', 'canyon', 'car_interior', 'carrousel', 'castle', 'catacomb', 'cemetery', 'chalet', 'chemistry_lab', 'childs_room', 'church_indoor', 'church_outdoor', 'classroom', 'clean_room', 'cliff', 'closet', 'clothing_store', 'coast', 'cockpit', 'coffee_shop', 'computer_room', 'conference_center', 'conference_room', 'construction_site', 'corn_field', 'corral', 'corridor', 'cottage', 'courthouse', 'courtyard', 'creek', 'crevasse', 'crosswalk', 'dam', 'delicatessen', 'department_store', 'desert_sand', 'desert_vegetation', 'desert_road', 'diner_outdoor', 'dining_hall', 'dining_room', 'discotheque', 'doorway_outdoor', 'dorm_room', 'downtown', 'dressing_room', 'driveway', 'drugstore', 'elevator_door', 'elevator_lobby', 'elevator_shaft', 'embassy', 'engine_room', 'entrance_hall', 'escalator_indoor', 'excavation', 'fabric_store', 'farm', 'fastfood_restaurant', 'field_cultivated', 'field_wild', 'field_road', 'fire_escape', 'fire_station', 'fishpond', 'flea_market_indoor', 'florist_shop_indoor', 'food_court', 'football_field', 'forest_broadleaf', 'forest_path', 'forest_road', 'formal_garden', 'fountain', 'galley', 'garage_indoor', 'garage_outdoor', 'gas_station', 'gazebo_exterior', 'general_store_indoor', 'general_store_outdoor', 'gift_shop', 'glacier', 'golf_course', 'greenhouse_indoor', 'greenhouse_outdoor', 'grotto', 'gymnasium_indoor', 'hangar_indoor', 'hangar_outdoor', 'harbor', 'hardware_store', 'hayfield', 'heliport', 'highway', 'home_office', 'home_theater', 'hospital', 'hospital_room', 'hot_spring', 'hotel_outdoor', 'hotel_room', 'house', 'hunting_lodge_outdoor', 'ice_cream_parlor', 'ice_floe', 'ice_shelf', 'ice_skating_rink_indoor', 'ice_skating_rink_outdoor', 'iceberg', 'igloo', 'industrial_area', 'inn_outdoor', 'islet', 'jacuzzi_indoor', 'jail_cell', 'japanese_garden', 'jewelry_shop', 'junkyard', 'kasbah', 'kennel_outdoor', 'kindergarden_classroom', 'kitchen', 'lagoon', 'lake_natural', 'landfill', 'landing_deck', 'laundromat', 'lawn', 'lecture_room', 'legislative_chamber', 'library_indoor', 'library_outdoor', 'lighthouse', 'living_room', 'loading_dock', 'lobby', 'lock_chamber', 'locker_room', 'mansion', 'manufactured_home', 'market_indoor', 'market_outdoor', 'marsh', 'martial_arts_gym', 'mausoleum', 'medina', 'mezzanine', 'moat_water', 'mosque_outdoor', 'motel', 'mountain', 'mountain_path', 'mountain_snowy', 'movie_theater_indoor', 'museum_indoor', 'museum_outdoor', 'music_studio', 'natural_history_museum', 'nursery', 'nursing_home', 'oast_house', 'ocean', 'office', 'office_building', 'office_cubicles', 'oilrig', 'operating_room', 'orchard', 'orchestra_pit', 'pagoda', 'palace', 'pantry', 'park', 'parking_garage_indoor', 'parking_garage_outdoor', 'parking_lot', 'pasture', 'patio', 'pavilion', 'pet_shop', 'pharmacy', 'phone_booth', 'physics_laboratory', 'picnic_area', 'pier', 'pizzeria', 'playground', 'playroom', 'plaza', 'pond', 'porch', 'promenade', 'pub_indoor', 'racecourse', 'raceway', 'raft', 'railroad_track', 'rainforest', 'reception', 'recreation_room', 'repair_shop', 'residential_neighborhood', 'restaurant', 'restaurant_kitchen', 'restaurant_patio', 'rice_paddy', 'river', 'rock_arch', 'roof_garden', 'rope_bridge', 'ruin', 'runway', 'sandbox', 'sauna', 'schoolhouse', 'science_museum', 'server_room', 'shed', 'shoe_shop', 'shopfront', 'shopping_mall_indoor', 'shower', 'ski_resort', 'ski_slope', 'sky', 'skyscraper', 'slum', 'snowfield', 'soccer_field', 'stable', 'stadium_baseball', 'stadium_football', 'stadium_soccer', 'stage_indoor', 'stage_outdoor', 'staircase', 'storage_room', 'street', 'subway_station_platform', 'supermarket', 'sushi_bar', 'swamp', 'swimming_hole', 'swimming_pool_indoor', 'swimming_pool_outdoor', 'synagogue_outdoor', 'television_room', 'television_studio', 'temple_asia', 'throne_room', 'ticket_booth', 'topiary_garden', 'tower', 'toyshop', 'train_interior', 'train_station_platform', 'tree_farm', 'tree_house', 'trench', 'tundra', 'underwater_ocean_deep', 'utility_room', 'valley', 'vegetable_garden', 'veterinarians_office', 'viaduct', 'village', 'vineyard', 'volcano', 'volleyball_court_outdoor', 'waiting_room', 'water_park', 'water_tower', 'waterfall', 'watering_hole', 'wave', 'wet_bar', 'wheat_field', 'wind_farm', 'windmill', 'yard', 'youth_hostel', 'zen_garden']\n"
     ]
    }
   ],
   "source": [
    "print(emotion_net.domain)\n",
    "print(scene_net.domain)"
   ]
  },
  {
   "cell_type": "code",
   "execution_count": 283,
   "id": "7633ce27",
   "metadata": {},
   "outputs": [],
   "source": [
    "def preprocess_face(image_path):\n",
    "    face_img = Image.open(image_path).convert(\"RGB\")\n",
    "    inputs = emotion_processor(face_img, return_tensors=\"pt\")\n",
    "    return inputs[\"pixel_values\"]\n",
    "\n",
    "def preprocess_scene(image_path):\n",
    "    scene_img = Image.open(image_path).convert(\"RGB\")\n",
    "    return scene_tf(scene_img).unsqueeze(0) "
   ]
  },
  {
   "cell_type": "markdown",
   "id": "f33e7d17",
   "metadata": {},
   "source": [
    "# Register test images"
   ]
  },
  {
   "cell_type": "code",
   "execution_count": 284,
   "id": "344469a1",
   "metadata": {},
   "outputs": [],
   "source": [
    "from deepproblog.dataset import Dataset\n",
    "\n",
    "face_tensor = preprocess_face(\"./data/fer2013/test/happy/PrivateTest_10077120.jpg\")\n",
    "scene_tensor = preprocess_scene(\"./data/places365/val/amusement_park/Places365_val_00000381.jpg\")"
   ]
  },
  {
   "cell_type": "markdown",
   "id": "3949fec7",
   "metadata": {},
   "source": [
    "# Build the model"
   ]
  },
  {
   "cell_type": "code",
   "execution_count": 285,
   "id": "7e857523",
   "metadata": {},
   "outputs": [],
   "source": [
    "from deepproblog.model import Model\n",
    "from problog.logic import Constant\n",
    "\n",
    "from deepproblog.engines import ExactEngine\n",
    "\n",
    "model = Model(\"social_cognition_model.pl\", [scene_net, emotion_net])\n",
    "\n",
    "face_source  = { (Constant(\"img\"),): face_tensor } \n",
    "scene_source = { (Constant(\"img\"),): scene_tensor }\n",
    "model.add_tensor_source(\"emotion_model\", face_source)\n",
    "model.add_tensor_source(\"scene_model\",  scene_source)\n",
    "\n",
    "\n",
    "model.set_engine(ExactEngine(model))\n",
    "model.eval()"
   ]
  },
  {
   "cell_type": "markdown",
   "id": "1d812ee6",
   "metadata": {},
   "source": [
    "# Query the model"
   ]
  },
  {
   "cell_type": "code",
   "execution_count": 286,
   "id": "1af7b21e",
   "metadata": {},
   "outputs": [
    {
     "name": "stdout",
     "output_type": "stream",
     "text": [
      "{face(img,happy): 0.0}\n",
      "{scene(img,amusement_park): 0.0}\n"
     ]
    }
   ],
   "source": [
    "from problog.logic import Term, Constant\n",
    "from deepproblog.query import Query\n",
    "\n",
    "# Correct: use Constant(\"happy\") instead of Term(\"happy\")\n",
    "q1 = Query(Term(\"face\", Constant(\"img\"), Constant(\"happy\")))\n",
    "print(model.solve([q1])[0].result)\n",
    "\n",
    "q2 = Query(Term(\"scene\", Constant(\"img\"), Constant(\"amusement_park\")))\n",
    "print(model.solve([q2])[0].result)\n"
   ]
  }
 ],
 "metadata": {
  "kernelspec": {
   "display_name": "deepproblog",
   "language": "python",
   "name": "python3"
  },
  "language_info": {
   "codemirror_mode": {
    "name": "ipython",
    "version": 3
   },
   "file_extension": ".py",
   "mimetype": "text/x-python",
   "name": "python",
   "nbconvert_exporter": "python",
   "pygments_lexer": "ipython3",
   "version": "3.10.18"
  }
 },
 "nbformat": 4,
 "nbformat_minor": 5
}
