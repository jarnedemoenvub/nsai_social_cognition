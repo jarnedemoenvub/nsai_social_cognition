{
 "cells": [
  {
   "cell_type": "code",
   "execution_count": 50,
   "id": "c0604e89",
   "metadata": {},
   "outputs": [],
   "source": [
    "from deepproblog.model import Model\n",
    "from deepproblog.network import Network\n",
    "from deepproblog.engines import ExactEngine\n",
    "from deepproblog.dataset import Dataset, DataLoader\n",
    "from torch.utils.data import Dataset as TorchDataset\n",
    "from problog.logic import Term, Constant\n",
    "from deepproblog.query import Query\n",
    "from deepproblog.train import train_model\n",
    "import os"
   ]
  },
  {
   "cell_type": "code",
   "execution_count": 51,
   "id": "05d38cf4",
   "metadata": {},
   "outputs": [
    {
     "name": "stdout",
     "output_type": "stream",
     "text": [
      "Looking for file at: c:\\Users\\jarne\\Documents\\Code Masterthesis\\nsai_social_cognition\\code\\examples\\earthquake.pl\n",
      "File exists: True\n"
     ]
    }
   ],
   "source": [
    "script_dir = os.getcwd()\n",
    "earthquake_path = os.path.join(script_dir, \"earthquake.pl\")\n",
    "print(f\"Looking for file at: {earthquake_path}\")\n",
    "print(f\"File exists: {os.path.exists(earthquake_path)}\")"
   ]
  },
  {
   "cell_type": "code",
   "execution_count": 52,
   "id": "0ef3e3c0",
   "metadata": {},
   "outputs": [],
   "source": [
    "model = Model(earthquake_path, [])\n",
    "model.set_engine(ExactEngine(model))"
   ]
  },
  {
   "cell_type": "code",
   "execution_count": 53,
   "id": "aad8841d",
   "metadata": {},
   "outputs": [
    {
     "name": "stdout",
     "output_type": "stream",
     "text": [
      "[{calls_mary: 0.14}]\n"
     ]
    }
   ],
   "source": [
    "# Fix the typo: \"uery\" should be \"query\"\n",
    "query = Query(Term(\"calls_mary\"), None)\n",
    "result = model.solve([query])\n",
    "print(result)"
   ]
  }
 ],
 "metadata": {
  "kernelspec": {
   "display_name": "deepproblog",
   "language": "python",
   "name": "python3"
  },
  "language_info": {
   "codemirror_mode": {
    "name": "ipython",
    "version": 3
   },
   "file_extension": ".py",
   "mimetype": "text/x-python",
   "name": "python",
   "nbconvert_exporter": "python",
   "pygments_lexer": "ipython3",
   "version": "3.10.18"
  }
 },
 "nbformat": 4,
 "nbformat_minor": 5
}
