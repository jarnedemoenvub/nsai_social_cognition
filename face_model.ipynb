{
 "cells": [
  {
   "cell_type": "code",
   "execution_count": 21,
   "id": "0d9a443c",
   "metadata": {},
   "outputs": [],
   "source": [
    "import pandas as pd\n",
    "import numpy as np\n",
    "from PIL import Image\n",
    "from transformers import AutoImageProcessor, AutoModelForImageClassification\n",
    "import torch\n",
    "import os\n",
    "import cv2"
   ]
  },
  {
   "cell_type": "code",
   "execution_count": null,
   "id": "f975f83f",
   "metadata": {},
   "outputs": [
    {
     "name": "stderr",
     "output_type": "stream",
     "text": [
      "Fetching 1 files: 100%|██████████| 1/1 [00:00<?, ?it/s]\n"
     ]
    }
   ],
   "source": [
    "# Load pretrained model + processor\n",
    "processor = AutoImageProcessor.from_pretrained(\"trpakov/vit-face-expression\")\n",
    "face_model = AutoModelForImageClassification.from_pretrained(\"trpakov/vit-face-expression\")"
   ]
  },
  {
   "cell_type": "code",
   "execution_count": 26,
   "id": "1d0656d9",
   "metadata": {},
   "outputs": [],
   "source": [
    "# Create the database\n",
    "PATH = \"./data/fer2013/test/\"\n",
    "limit = 100\n",
    "emotions = [e for e in os.listdir(PATH)]\n",
    "rows=[]\n",
    "\n",
    "for emotion in emotions:\n",
    "    current_path = PATH + emotion\n",
    "    for (i,file) in enumerate(os.listdir(current_path)):\n",
    "        file_path = current_path + \"/\" + file\n",
    "        img = cv2.imread(file_path)\n",
    "        if i == limit:\n",
    "            break\n",
    "        rows.append({\"image\":img, \"emotion\":emotion})\n",
    "\n",
    "df = pd.DataFrame(rows)\n",
    "# Shuffle the dataframe\n",
    "df = df.sample(frac=1).reset_index(drop=True)\n",
    "        "
   ]
  },
  {
   "cell_type": "code",
   "execution_count": 27,
   "id": "b5432411",
   "metadata": {},
   "outputs": [
    {
     "data": {
      "text/plain": [
       "(48, 48, 3)"
      ]
     },
     "execution_count": 27,
     "metadata": {},
     "output_type": "execute_result"
    }
   ],
   "source": [
    "df[\"image\"][0].shape"
   ]
  },
  {
   "cell_type": "code",
   "execution_count": null,
   "id": "912966df",
   "metadata": {},
   "outputs": [
    {
     "name": "stdout",
     "output_type": "stream",
     "text": [
      "True Emotion: fear\n",
      "Predictions:\n",
      "  angry: 0.79%\n",
      "  disgust: 1.06%\n",
      "  fear: 92.62%\n",
      "  happy: 0.79%\n",
      "  neutral: 1.32%\n",
      "  sad: 2.56%\n",
      "  surprise: 0.86%\n"
     ]
    },
    {
     "data": {
      "image/jpeg": "[encoded data removed]",
      "image/png": "[encoded data removed]",
      "text/plain": [
       "<PIL.Image.Image image mode=RGB size=48x48>"
      ]
     },
     "metadata": {},
     "output_type": "display_data"
    }
   ],
   "source": [
    "from IPython.display import display\n",
    "import torch\n",
    "import cv2\n",
    "from PIL import Image\n",
    "import random\n",
    "\n",
    "def show_image_and_prediction(index):\n",
    "    image = df[\"image\"][index]\n",
    "    emotion = df[\"emotion\"][index]\n",
    "\n",
    "    # Convert to PIL (OpenCV loads BGR)\n",
    "    image_pil = Image.fromarray(cv2.cvtColor(image, cv2.COLOR_BGR2RGB))\n",
    "\n",
    "    # Preprocess\n",
    "    inputs = processor(images=image_pil, return_tensors=\"pt\")\n",
    "\n",
    "    # Inference\n",
    "    with torch.no_grad():\n",
    "        logits = face_model(**inputs).logits\n",
    "        probs = torch.nn.functional.softmax(logits, dim=-1)[0]\n",
    "\n",
    "    # Print true label\n",
    "    print(f\"True Emotion: {emotion}\")\n",
    "    print(\"Predictions:\")\n",
    "\n",
    "    # Print each class with % probability\n",
    "    for i, p in enumerate(probs):\n",
    "        label = face_model.config.id2label[i]\n",
    "        print(f\"  {label}: {p.item()*100:.2f}%\")\n",
    "\n",
    "    # Display image\n",
    "    display(image_pil)\n",
    "\n",
    "# Example\n",
    "show_image_and_prediction(random.randint(0, len(df)-1))\n"
   ]
  }
 ],
 "metadata": {
  "kernelspec": {
   "display_name": "deepproblog",
   "language": "python",
   "name": "python3"
  },
  "language_info": {
   "codemirror_mode": {
    "name": "ipython",
    "version": 3
   },
   "file_extension": ".py",
   "mimetype": "text/x-python",
   "name": "python",
   "nbconvert_exporter": "python",
   "pygments_lexer": "ipython3",
   "version": "3.10.18"
  }
 },
 "nbformat": 4,
 "nbformat_minor": 5
}
